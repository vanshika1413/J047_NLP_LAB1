{
  "nbformat": 4,
  "nbformat_minor": 0,
  "metadata": {
    "colab": {
      "provenance": []
    },
    "kernelspec": {
      "name": "python3",
      "display_name": "Python 3"
    },
    "language_info": {
      "name": "python"
    }
  },
  "cells": [
    {
      "cell_type": "code",
      "execution_count": 1,
      "metadata": {
        "colab": {
          "base_uri": "https://localhost:8080/",
          "height": 87
        },
        "id": "8k9Un5RC5UqN",
        "outputId": "d17e55d4-766c-46ec-bb4b-d1869aa62c8c"
      },
      "outputs": [
        {
          "output_type": "execute_result",
          "data": {
            "text/plain": [
              "'\\nBuild a date parser using basic text processing and rules. (No ML models)\\n\\n- Given a piece of text, extract the day, month and year info and present it in DD/MM/YYYY format.\\n    - Example: “I went to London on 21st June, 2024” → 21/06/2024\\n- Use only default python packages and regex (no ML models OR external libraries)'"
            ],
            "application/vnd.google.colaboratory.intrinsic+json": {
              "type": "string"
            }
          },
          "metadata": {},
          "execution_count": 1
        }
      ],
      "source": [
        "\"\"\"\n",
        "Build a date parser using basic text processing and rules. (No ML models)\n",
        "\n",
        "- Given a piece of text, extract the day, month and year info and present it in DD/MM/YYYY format.\n",
        "    - Example: “I went to London on 21st June, 2024” → 21/06/2024\n",
        "- Use only default python packages and regex (no ML models OR external libraries)\"\"\""
      ]
    },
    {
      "cell_type": "code",
      "source": [
        "import re\n",
        "import pandas as pd\n",
        "\n",
        "def parse_date(text):\n",
        "    month_mapping = {\n",
        "        \"January\": \"01\", \"February\": \"02\", \"March\": \"03\", \"April\": \"04\",\n",
        "        \"May\": \"05\", \"June\": \"06\", \"July\": \"07\", \"August\": \"08\",\n",
        "        \"September\": \"09\", \"October\": \"10\", \"November\": \"11\", \"December\": \"12\",\n",
        "        \"Jan\": \"01\", \"Feb\": \"02\", \"Mar\": \"03\", \"Apr\": \"04\", \"Jun\": \"06\",\n",
        "        \"Jul\": \"07\", \"Aug\": \"08\", \"Sep\": \"09\", \"Oct\": \"10\", \"Nov\": \"11\", \"Dec\": \"12\"\n",
        "    }\n",
        "\n",
        "    patterns = [\n",
        "        r\"(\\d{1,2})(?:st|nd|rd|th)?\\s+([A-Za-z]+),?\\s+(\\d{4})\",  # 1st January 2000\n",
        "        r\"([A-Za-z]+)\\s+(\\d{1,2}),?\\s+(\\d{4})\",  # January 1, 2000\n",
        "        r\"(\\d{1,2})/(\\d{1,2})/(\\d{4})\",  # 01/01/2000 or 1/1/2000\n",
        "        r\"(\\d{4})[-/](\\d{1,2})[-/](\\d{1,2})\",  # 2000-01-01\n",
        "        r\"(\\d{1,2})[-.](\\d{1,2})[-.](\\d{4})\",  # 01.01.2000\n",
        "        r\"(\\d{4})[-/.](\\d{1,2})[-/.](\\d{1,2})\",  # 2000.01.01\n",
        "        r\"(\\d{1,2})\\s+of\\s+([A-Za-z]+)\\s+(\\d{4})\",  # 1st of January 2000\n",
        "        r\"(\\d{1,2})(?:st|nd|rd|th)?\\s+([A-Za-z]+)\\s+(\\d{4})\",  # 1st January 2000\n",
        "    ]\n",
        "\n",
        "    for pattern in patterns:\n",
        "        match = re.search(pattern, text)\n",
        "        if match:\n",
        "            if pattern == patterns[0] or pattern == patterns[7]:\n",
        "                day, month_str, year = match.groups()\n",
        "                month = month_mapping.get(month_str, \"00\")\n",
        "            elif pattern == patterns[1]:\n",
        "                month_str, day, year = match.groups()\n",
        "                month = month_mapping.get(month_str, \"00\")\n",
        "            elif pattern == patterns[2] or pattern == patterns[4]:\n",
        "                day, month, year = match.groups()\n",
        "            elif pattern == patterns[3] or pattern == patterns[5]:\n",
        "                year, month, day = match.groups()\n",
        "            elif pattern == patterns[6]:\n",
        "                day, month_str, year = match.groups()\n",
        "                month = month_mapping.get(month_str, \"00\")\n",
        "\n",
        "            day = day.zfill(2)\n",
        "            month = month.zfill(2)\n",
        "            year = year[-2:]\n",
        "            return f\"{day}/{month}/{year}\"\n",
        "\n",
        "    return None\n",
        "\n",
        "\n",
        "input_file = '/content/date_parser_testcases.csv'\n",
        "df = pd.read_csv(input_file)\n",
        "df['parsed_date'] = df['Input'].apply(parse_date)\n",
        "output_file = '/content/drive/MyDrive/SNLP/output2.csv'\n",
        "df.to_csv(output_file, index=False)\n",
        "print(\"Date parsing complete. Check output.csv for results.\")\n"
      ],
      "metadata": {
        "colab": {
          "base_uri": "https://localhost:8080/"
        },
        "id": "uXUspTNT_mS0",
        "outputId": "7206d90b-f016-4504-bd16-91fc8b84cef3"
      },
      "execution_count": 13,
      "outputs": [
        {
          "output_type": "stream",
          "name": "stdout",
          "text": [
            "Date parsing complete. Check output.csv for results.\n"
          ]
        }
      ]
    },
    {
      "cell_type": "code",
      "source": [
        "import re\n",
        "import pandas as pd\n",
        "\n",
        "def parse_date(text):\n",
        "    # Month mapping for textual months\n",
        "    month_mapping = {\n",
        "        \"January\": \"01\", \"February\": \"02\", \"March\": \"03\", \"April\": \"04\",\n",
        "        \"May\": \"05\", \"June\": \"06\", \"July\": \"07\", \"August\": \"08\",\n",
        "        \"September\": \"09\", \"October\": \"10\", \"November\": \"11\", \"December\": \"12\",\n",
        "        \"Jan\": \"01\", \"Feb\": \"02\", \"Mar\": \"03\", \"Apr\": \"04\", \"Jun\": \"06\",\n",
        "        \"Jul\": \"07\", \"Aug\": \"08\", \"Sep\": \"09\", \"Oct\": \"10\", \"Nov\": \"11\", \"Dec\": \"12\"\n",
        "    }\n",
        "\n",
        "    patterns = [\n",
        "        # Match patterns like '1st January 2000'\n",
        "        r\"(\\d{1,2})(?:st|nd|rd|th)?\\s+([A-Za-z]+)\\s+(\\d{4})\",\n",
        "        # Match patterns like 'January 1, 2000'\n",
        "        r\"([A-Za-z]+)\\s+(\\d{1,2}),?\\s+(\\d{4})\",\n",
        "        # Match patterns like '01/01/2000' or '1/1/2000'\n",
        "        r\"(\\d{1,2})/(\\d{1,2})/(\\d{4})\",\n",
        "        # Match patterns like '2000-01-01'\n",
        "        r\"(\\d{4})[-/](\\d{1,2})[-/](\\d{1,2})\",\n",
        "        # Match patterns like '01.01.2000'\n",
        "        r\"(\\d{1,2})[.-](\\d{1,2})[.-](\\d{4})\",\n",
        "        # Match patterns like '2000.01.01'\n",
        "        r\"(\\d{4})[.-](\\d{1,2})[.-](\\d{1,2})\",\n",
        "        # Match patterns like '1st of January 2000'\n",
        "        r\"(\\d{1,2})\\s+of\\s+([A-Za-z]+)\\s+(\\d{4})\",\n",
        "        # Match patterns like '31-12-2022'\n",
        "        r\"(\\d{1,2})[-](\\d{1,2})[-](\\d{4})\",\n",
        "        # Match patterns like '31.12.2022'\n",
        "        r\"(\\d{1,2})[.](\\d{1,2})[.](\\d{4})\",\n",
        "        # Match patterns like '31/12/22'\n",
        "        r\"(\\d{1,2})/(\\d{1,2})/(\\d{2})\"\n",
        "    ]\n",
        "\n",
        "    for pattern in patterns:\n",
        "        match = re.search(pattern, text)\n",
        "        if match:\n",
        "            groups = match.groups()\n",
        "            if pattern in [patterns[0], patterns[7]]:\n",
        "                day, month_str, year = groups\n",
        "                month = month_mapping.get(month_str, \"00\")\n",
        "            elif pattern == patterns[1]:\n",
        "                month_str, day, year = groups\n",
        "                month = month_mapping.get(month_str, \"00\")\n",
        "            elif pattern in [patterns[2], patterns[4], patterns[8]]:\n",
        "                day, month, year = groups\n",
        "            elif pattern in [patterns[3], patterns[5]]:\n",
        "                year, month, day = groups\n",
        "            elif pattern == patterns[6]:\n",
        "                day, month_str, year = groups\n",
        "                month = month_mapping.get(month_str, \"00\")\n",
        "            elif pattern == patterns[9]:\n",
        "                day, month, year = groups\n",
        "            elif pattern == patterns[10]:\n",
        "                day, month, year = groups\n",
        "                year = '20' + year if int(year) < 50 else '19' + year\n",
        "\n",
        "            day = day.zfill(2)\n",
        "            month = month.zfill(2)\n",
        "            year = year[-2:]\n",
        "            return f\"{day}/{month}/{year}\"\n",
        "\n",
        "    return None\n",
        "\n",
        "input_file = '/content/date_parser_testcases.csv'\n",
        "df = pd.read_csv(input_file)\n",
        "df['parsed_date'] = df['Input'].apply(parse_date)\n",
        "output_file = '/content/drive/MyDrive/SNLP/output3.csv'\n",
        "df.to_csv(output_file, index=False)\n",
        "print(\"Date parsing complete. Check output.csv for results.\")\n"
      ],
      "metadata": {
        "colab": {
          "base_uri": "https://localhost:8080/"
        },
        "id": "imPLqxtoAeg1",
        "outputId": "a3037c7c-0846-4d77-f543-be03e417b19e"
      },
      "execution_count": 15,
      "outputs": [
        {
          "output_type": "stream",
          "name": "stdout",
          "text": [
            "Date parsing complete. Check output.csv for results.\n"
          ]
        }
      ]
    },
    {
      "cell_type": "code",
      "source": [
        "import re\n",
        "import pandas as pd\n",
        "\n",
        "def parse_date(text):\n",
        "    # Month mapping for textual months\n",
        "    month_mapping = {\n",
        "        \"January\": \"01\", \"February\": \"02\", \"March\": \"03\", \"April\": \"04\",\n",
        "        \"May\": \"05\", \"June\": \"06\", \"July\": \"07\", \"August\": \"08\",\n",
        "        \"September\": \"09\", \"October\": \"10\", \"November\": \"11\", \"December\": \"12\",\n",
        "        \"Jan\": \"01\", \"Feb\": \"02\", \"Mar\": \"03\", \"Apr\": \"04\", \"Jun\": \"06\",\n",
        "        \"Jul\": \"07\", \"Aug\": \"08\", \"Sep\": \"09\", \"Oct\": \"10\", \"Nov\": \"11\", \"Dec\": \"12\"\n",
        "    }\n",
        "\n",
        "    patterns = [\n",
        "        # Match patterns like '1st January 2000'\n",
        "        r\"(\\d{1,2})(?:st|nd|rd|th)?\\s+([A-Za-z]+)\\s+(\\d{4})\",\n",
        "        # Match patterns like 'January 1, 2000'\n",
        "        r\"([A-Za-z]+)\\s+(\\d{1,2}),?\\s+(\\d{4})\",\n",
        "        # Match patterns like '01/01/2000' or '1/1/2000'\n",
        "        r\"(\\d{1,2})/(\\d{1,2})/(\\d{4})\",\n",
        "        # Match patterns like '2000-01-01'\n",
        "        r\"(\\d{4})[-/](\\d{1,2})[-/](\\d{1,2})\",\n",
        "        # Match patterns like '01.01.2000'\n",
        "        r\"(\\d{1,2})[.-](\\d{1,2})[.-](\\d{4})\",\n",
        "        # Match patterns like '2000.01.01'\n",
        "        r\"(\\d{4})[.-](\\d{1,2})[.-](\\d{1,2})\",\n",
        "        # Match patterns like '1st of January 2000'\n",
        "        r\"(\\d{1,2})\\s+of\\s+([A-Za-z]+)\\s+(\\d{4})\",\n",
        "        # Match patterns like '31-12-2022'\n",
        "        r\"(\\d{1,2})[-](\\d{1,2})[-](\\d{4})\",\n",
        "        # Match patterns like '31.12.2022'\n",
        "        r\"(\\d{1,2})[.](\\d{1,2})[.](\\d{4})\",\n",
        "        # Match patterns like '31/12/22'\n",
        "        r\"(\\d{1,2})/(\\d{1,2})/(\\d{2})\",\n",
        "        # Match patterns like '08/31/2021'\n",
        "        r\"(\\d{1,2})/(\\d{1,2})/(\\d{4})\",\n",
        "        # Match patterns like '2021.12.31'\n",
        "        r\"(\\d{4})[.](\\d{1,2})[.](\\d{1,2})\",\n",
        "        # Match patterns like '03/14/2022'\n",
        "        r\"(\\d{1,2})/(\\d{1,2})/(\\d{4})\",\n",
        "        # Match patterns like '2022-03-03'\n",
        "        r\"(\\d{4})[-](\\d{1,2})[-](\\d{1,2})\"\n",
        "    ]\n",
        "\n",
        "    for pattern in patterns:\n",
        "        match = re.search(pattern, text)\n",
        "        if match:\n",
        "            groups = match.groups()\n",
        "            if pattern in [patterns[0], patterns[7]]:\n",
        "                day, month_str, year = groups\n",
        "                month = month_mapping.get(month_str, \"00\")\n",
        "            elif pattern == patterns[1]:\n",
        "                month_str, day, year = groups\n",
        "                month = month_mapping.get(month_str, \"00\")\n",
        "            elif pattern in [patterns[2], patterns[4], patterns[8]]:\n",
        "                day, month, year = groups\n",
        "            elif pattern in [patterns[3], patterns[5]]:\n",
        "                year, month, day = groups\n",
        "            elif pattern == patterns[6]:\n",
        "                day, month_str, year = groups\n",
        "                month = month_mapping.get(month_str, \"00\")\n",
        "            elif pattern == patterns[9]:\n",
        "                day, month, year = groups\n",
        "            elif pattern == patterns[10]:\n",
        "                day, month, year = groups\n",
        "                year = '20' + year if int(year) < 50 else '19' + year\n",
        "\n",
        "            # Correct two-digit years\n",
        "            year = year if len(year) == 4 else '20' + year\n",
        "\n",
        "            day = day.zfill(2)\n",
        "            month = month.zfill(2)\n",
        "            year = year[-2:]\n",
        "            return f\"{day}/{month}/{year}\"\n",
        "\n",
        "    return None\n",
        "\n",
        "\n",
        "input_file = '/content/date_parser_testcases.csv'\n",
        "df = pd.read_csv(input_file)\n",
        "df['parsed_date'] = df['Input'].apply(parse_date)\n",
        "output_file = '/content/drive/MyDrive/SNLP/output4.csv'\n",
        "df.to_csv(output_file, index=False)\n",
        "print(\"Date parsing complete. Check output.csv for results.\")\n"
      ],
      "metadata": {
        "colab": {
          "base_uri": "https://localhost:8080/"
        },
        "id": "CiXVNo3KBrY0",
        "outputId": "ea58b52b-b098-4cb9-ce4b-009ed1ddee6c"
      },
      "execution_count": 16,
      "outputs": [
        {
          "output_type": "stream",
          "name": "stdout",
          "text": [
            "Date parsing complete. Check output.csv for results.\n"
          ]
        }
      ]
    },
    {
      "cell_type": "code",
      "source": [
        "import re\n",
        "import pandas as pd\n",
        "\n",
        "def parse_date(text):\n",
        "    # Month mapping for textual months\n",
        "    month_mapping = {\n",
        "        \"January\": \"01\", \"February\": \"02\", \"March\": \"03\", \"April\": \"04\",\n",
        "        \"May\": \"05\", \"June\": \"06\", \"July\": \"07\", \"August\": \"08\",\n",
        "        \"September\": \"09\", \"October\": \"10\", \"November\": \"11\", \"December\": \"12\",\n",
        "        \"Jan\": \"01\", \"Feb\": \"02\", \"Mar\": \"03\", \"Apr\": \"04\", \"Jun\": \"06\",\n",
        "        \"Jul\": \"07\", \"Aug\": \"08\", \"Sep\": \"09\", \"Oct\": \"10\", \"Nov\": \"11\", \"Dec\": \"12\"\n",
        "    }\n",
        "\n",
        "    patterns = [\n",
        "        # Match patterns like '1st January 2000'\n",
        "        r\"(\\d{1,2})(?:st|nd|rd|th)?\\s+([A-Za-z]+)\\s+(\\d{4})\",\n",
        "        # Match patterns like 'January 1, 2000'\n",
        "        r\"([A-Za-z]+)\\s+(\\d{1,2}),?\\s+(\\d{4})\",\n",
        "        # Match patterns like '01/01/2000' or '1/1/2000'\n",
        "        r\"(\\d{1,2})/(\\d{1,2})/(\\d{4})\",\n",
        "        # Match patterns like '2000-01-01'\n",
        "        r\"(\\d{4})[-/](\\d{1,2})[-/](\\d{1,2})\",\n",
        "        # Match patterns like '01.01.2000'\n",
        "        r\"(\\d{1,2})[.-](\\d{1,2})[.-](\\d{4})\",\n",
        "        # Match patterns like '2000.01.01'\n",
        "        r\"(\\d{4})[.-](\\d{1,2})[.-](\\d{1,2})\",\n",
        "        # Match patterns like '1st of January 2000'\n",
        "        r\"(\\d{1,2})\\s+of\\s+([A-Za-z]+)\\s+(\\d{4})\",\n",
        "        # Match patterns like '31-12-2022'\n",
        "        r\"(\\d{1,2})[-](\\d{1,2})[-](\\d{4})\",\n",
        "        # Match patterns like '31.12.2022'\n",
        "        r\"(\\d{1,2})[.](\\d{1,2})[.](\\d{4})\",\n",
        "        # Match patterns like '31/12/22'\n",
        "        r\"(\\d{1,2})/(\\d{1,2})/(\\d{2})\",\n",
        "        # Match patterns like '08/31/2021'\n",
        "        r\"(\\d{1,2})/(\\d{1,2})/(\\d{4})\",\n",
        "        # Match patterns like '2021.12.31'\n",
        "        r\"(\\d{4})[.](\\d{1,2})[.](\\d{1,2})\",\n",
        "        # Match patterns like '03/14/2022'\n",
        "        r\"(\\d{1,2})/(\\d{1,2})/(\\d{4})\",\n",
        "        # Match patterns like '2022-03-03'\n",
        "        r\"(\\d{4})[-](\\d{1,2})[-](\\d{1,2})\"\n",
        "    ]\n",
        "\n",
        "    for pattern in patterns:\n",
        "        match = re.search(pattern, text)\n",
        "        if match:\n",
        "            groups = match.groups()\n",
        "            if pattern in [patterns[0], patterns[6]]:\n",
        "                day, month_str, year = groups\n",
        "                month = month_mapping.get(month_str, \"00\")\n",
        "            elif pattern == patterns[1]:\n",
        "                month_str, day, year = groups\n",
        "                month = month_mapping.get(month_str, \"00\")\n",
        "            elif pattern in [patterns[2], patterns[4], patterns[8]]:\n",
        "                day, month, year = groups\n",
        "            elif pattern in [patterns[3], patterns[5]]:\n",
        "                year, month, day = groups\n",
        "            elif pattern == patterns[9]:\n",
        "                day, month, year = groups\n",
        "                year = '20' + year if int(year) < 50 else '19' + year\n",
        "            elif pattern == patterns[10]:\n",
        "                day, month, year = groups\n",
        "                year = '20' + year if int(year) < 50 else '19' + year\n",
        "            elif pattern == patterns[11]:\n",
        "                day, month, year = groups\n",
        "                year = '20' + year if int(year) < 50 else '19' + year\n",
        "\n",
        "            # Correct two-digit years\n",
        "            year = year if len(year) == 4 else '20' + year\n",
        "\n",
        "            day = day.zfill(2)\n",
        "            month = month.zfill(2)\n",
        "            year = year[-2:]\n",
        "            return f\"{day}/{month}/{year}\"\n",
        "\n",
        "    return None\n",
        "\n",
        "\n",
        "input_file = '/content/date_parser_testcases.csv'\n",
        "df = pd.read_csv(input_file)\n",
        "df['parsed_date'] = df['Input'].apply(parse_date)\n",
        "output_file = '/content/drive/MyDrive/SNLP/output5.csv'\n",
        "df.to_csv(output_file, index=False)\n",
        "print(\"Date parsing complete. Check output.csv for results.\")\n"
      ],
      "metadata": {
        "colab": {
          "base_uri": "https://localhost:8080/"
        },
        "id": "iV35WUe_CkwG",
        "outputId": "28d1b746-19dc-480a-beda-219f650cf3fe"
      },
      "execution_count": 17,
      "outputs": [
        {
          "output_type": "stream",
          "name": "stdout",
          "text": [
            "Date parsing complete. Check output.csv for results.\n"
          ]
        }
      ]
    },
    {
      "cell_type": "code",
      "source": [
        "print(df.head(20).query('parsed_date.notna()'))"
      ],
      "metadata": {
        "colab": {
          "base_uri": "https://localhost:8080/"
        },
        "id": "zqyvXn9pDiaF",
        "outputId": "8583f891-c161-4e0d-e07c-25f0251ebafd"
      },
      "execution_count": 20,
      "outputs": [
        {
          "output_type": "stream",
          "name": "stdout",
          "text": [
            "                                                Input Expected Output  \\\n",
            "0         The event will take place on March 5, 2023.      05/03/2023   \n",
            "1                      Her birthday is on 07/08/1990.      07/08/1990   \n",
            "2                         The deadline is 2022-12-31.      31/12/2022   \n",
            "5                       Let's catch up on 02.04.2022.      02/04/2022   \n",
            "6                      The project started on 5/6/19.      05/06/2019   \n",
            "7                          He was born on 1987/11/23.      23/11/1987   \n",
            "8                      Christmas is on 25th Dec 2024.      25/12/2024   \n",
            "9              The meeting is set for April 03, 2020.      03/04/2020   \n",
            "10  Her birthdate, noted as 1997-05-20, is in the ...      20/05/1997   \n",
            "12                       The exam date is 2021.11.10.      10/11/2021   \n",
            "13                      They got married on 12/12/12.      12/12/2012   \n",
            "15                  Submit your report by 08/31/2021.      31/08/2021   \n",
            "16                The course starts on 1st July 2023.      01/07/2023   \n",
            "18                        His birthday is 1995/10/30.      30/10/1995   \n",
            "19                 The new year begins on 01-01-2023.      01/01/2023   \n",
            "\n",
            "   parsed_date  \n",
            "0     05/03/23  \n",
            "1     07/08/90  \n",
            "2     31/12/22  \n",
            "5     02/04/22  \n",
            "6     05/06/19  \n",
            "7     23/11/87  \n",
            "8     25/12/24  \n",
            "9     03/04/20  \n",
            "10    20/05/97  \n",
            "12    10/11/21  \n",
            "13    12/12/12  \n",
            "15    08/31/21  \n",
            "16    01/07/23  \n",
            "18    30/10/95  \n",
            "19    01/01/23  \n"
          ]
        }
      ]
    },
    {
      "cell_type": "code",
      "source": [],
      "metadata": {
        "id": "RGFntJIuEV4L"
      },
      "execution_count": null,
      "outputs": []
    }
  ]
}